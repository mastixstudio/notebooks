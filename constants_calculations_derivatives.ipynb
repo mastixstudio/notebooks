{
 "cells": [
  {
   "cell_type": "markdown",
   "id": "812602ce-8edc-4127-9a68-ab5125d5a125",
   "metadata": {
    "tags": []
   },
   "source": [
    "<a id='top'></a>"
   ]
  },
  {
   "cell_type": "markdown",
   "id": "7b800d90-2180-4cd0-a4bb-b44f7e8f7e80",
   "metadata": {
    "tags": []
   },
   "source": [
    "# Constants and calculations"
   ]
  },
  {
   "cell_type": "markdown",
   "id": "bae87129-343f-4b57-b701-8967cbfed4bc",
   "metadata": {},
   "source": [
    "This notebook shows some fundamental building blocks when creating calculatio in MASTIX Studio:\n",
    "- [**Constants**](#constants). The inputs to functions in MASTIX Studio. How they are created, how they can be labelled and grouped, and how they can be formatted.\n",
    "    \n",
    "\n",
    "-  [**Calculations and derivatives**](#calculations).\n",
    "Defining calculations on different parts of the computation graph (?)\n",
    "-  [**Functions**](#functions).\n",
    "    Using pre-built functions from MASTIX Studio and creating custom funtions directly in Python.\n",
    "    \n",
    "    ***"
   ]
  },
  {
   "cell_type": "markdown",
   "id": "f0c9898f-e22b-4a57-8f13-94fd5d1a8e6f",
   "metadata": {
    "tags": []
   },
   "source": [
    "### Loading libraries"
   ]
  },
  {
   "cell_type": "code",
   "execution_count": 1,
   "id": "aae8bf53-9c80-49bb-9660-62af6facfe02",
   "metadata": {
    "tags": []
   },
   "outputs": [
    {
     "data": {
      "text/plain": [
       "<System.Reflection.RuntimeAssembly object at 0x000001AA72FAB080>"
      ]
     },
     "execution_count": 1,
     "metadata": {},
     "output_type": "execute_result"
    }
   ],
   "source": [
    "import sys\n",
    "\n",
    "sys.path.append(\"C:\\\\Users\\\\JensSvensson\\\\OneDrive - Mastix\\\\Mastix Studio Versions\\\\Latest\")\n",
    "\n",
    "from pythonnet import load\n",
    "\n",
    "load(\"coreclr\")\n",
    "\n",
    "import clr\n",
    "\n",
    "clr.AddReference(\"MastixKernel\")\n",
    "clr.AddReference(\"MastixXml\")\n",
    "clr.AddReference(\"MastixJson\")"
   ]
  },
  {
   "cell_type": "code",
   "execution_count": 2,
   "id": "6a205993-8eb1-4be7-a0b8-20e45def2b8d",
   "metadata": {
    "tags": []
   },
   "outputs": [],
   "source": [
    "import os\n",
    "\n",
    "from System.Collections.Generic import *\n",
    "from System.Diagnostics import Stopwatch\n",
    "from System import AssemblyLoadEventHandler\n",
    "\n",
    "from Quant.Differentiation import *\n",
    "from Quant.Calendars import *\n",
    "from Quant.Collections.Generic import *\n",
    "from Quant.Currencies import *\n",
    "from Quant.Formats import *\n",
    "from Quant.Common import *\n",
    "from Quant.Interpolations import *\n",
    "from Quant.Black import *\n",
    "from Quant.Distributions import *"
   ]
  },
  {
   "cell_type": "markdown",
   "id": "1a155213-6fa7-4191-82d0-86bd1a74ad64",
   "metadata": {
    "tags": []
   },
   "source": [
    "<a id='constants'></a>"
   ]
  },
  {
   "cell_type": "markdown",
   "id": "ee151a78-b43b-409e-bf1f-de66a0dc7fe8",
   "metadata": {},
   "source": [
    "[**Go to top of notebook**](#top)"
   ]
  },
  {
   "cell_type": "markdown",
   "id": "906613e9-bda6-439a-ad55-465efef2ae0c",
   "metadata": {
    "tags": []
   },
   "source": [
    "## Constants"
   ]
  },
  {
   "cell_type": "markdown",
   "id": "11855e01-8cdb-4e20-bcc7-09cd8243a656",
   "metadata": {
    "tags": []
   },
   "source": [
    "Derivatives — or sensitivities — of a function are evaluated at a single set of values for the independent variables. For a particular evaluation of the function, the inputs are constants. Hence, the inputs to a function are referred to as constants. \n",
    "\n",
    "Sensitivities in MASTIX Studio are with respect to the inputs of constants. This section provides a basic overview of how constants are created, how they can be grouped, and how they can be formatted for output.\n",
    "\n",
    "The difference between "
   ]
  },
  {
   "cell_type": "markdown",
   "id": "5661f52d-9ff9-479b-85e2-382e27786a52",
   "metadata": {},
   "source": [
    "<div align=\"center\">\n",
    "  <img src=\"https://github.com/mastixstudio/mastixstudio/blob/main/assets/basic-operation-constants.png?raw=true\" alt=\"Basic operation\" style=\"width: 30%;\">\n",
    "  <br/>\n",
    "  <i>Figure 2: Basic operation on two constants.</i>\n",
    "  <br/>\n",
    "  <br/>\n",
    "</div>"
   ]
  },
  {
   "cell_type": "markdown",
   "id": "5ee4cf3b-306b-4a5e-ba62-aa2ff7392e8d",
   "metadata": {
    "tags": []
   },
   "source": [
    " ### Labeling and formatting of constants\n",
    " \n",
    " A *simple* constant is a constant without a label or name, it can be visible or hidden when retrieving derivatives. \n",
    " A *constant* has a label and can be equipped with formatting for output of the constant itself as well as when it is part of a derivative. \n",
    " In the example below, the constant is output in percentage format, and hence multiplied by 100. A derivative it will be output as basis points, and the constant is hence multiplied by 10000."
   ]
  },
  {
   "cell_type": "code",
   "execution_count": 3,
   "id": "a5b847cc-21f9-4175-a3e5-7891d9f8b8be",
   "metadata": {},
   "outputs": [
    {
     "name": "stdout",
     "output_type": "stream",
     "text": [
      "5.40 %\n"
     ]
    }
   ],
   "source": [
    "a = SimpleConstant(2.93)\n",
    "b = SimpleConstant(1.39, True)\n",
    "c = Constant(1.23, \"Euribor/6M.5Y\")\n",
    "\n",
    "constantNumberFormat = PlainNumberFormat(2, \".\", \" \")\n",
    "\n",
    "d = Constant(0.054, \"Euribor/6M.5Y\", \"%\", 100.0, \"bp\", 10000, constantNumberFormat)\n",
    "\n",
    "print(d.FormatConstant(True))"
   ]
  },
  {
   "cell_type": "markdown",
   "id": "5dce18a7-2f95-459a-a150-e75d9ba9be5d",
   "metadata": {},
   "source": [
    "### Grouping of constants\n",
    "When dealing with large calculations it is convenient to be able to group derivatives with respect to additional attributes. Constants can therefore be associated with *groups*, which can be defined according to (*Group name*, *Attribute value*) (?). A constants can be associated with any number of groups. Groups and their common properties are collected in *extensions* which can then be used for any number of constants. "
   ]
  },
  {
   "cell_type": "code",
   "execution_count": 4,
   "id": "d9b05557-0efb-44bd-b7b1-bc26eb5e3b28",
   "metadata": {
    "tags": []
   },
   "outputs": [
    {
     "name": "stdout",
     "output_type": "stream",
     "text": [
      "Unit Groups (%, 100, Plain Number Format (1, 2, .,  , 0), bp, 0,0001, Group (TradeDate, 2022-07-18, Short Date Format), Group (ReferenceIndex, Stibor/3M, Plain String Format), Plain String Format)\n"
     ]
    }
   ],
   "source": [
    "group1 = ConstantGroupDate(\"TradeDate\", Date(2022, 7, 18))\n",
    "group2 = ConstantGroupDate(\"TradeDate\", Date(2022, 7, 19))\n",
    "group3 = ConstantGroupString(\"ReferenceIndex\", \"Stibor/3M\")\n",
    "group4 = ConstantGroupString(\"ReferenceIndex\", \"Euribor/6M\")\n",
    "\n",
    "extension1 = ConstantExtensionUnitGroups(\"%\", 100.0, \"bp\", 1.0/10000, constantNumberFormat, None, group1, group3)\n",
    "extension2 = ConstantExtensionUnitGroups(\"%\", 100.0, \"bp\", 1.0/10000, constantNumberFormat, None, group2, group3)\n",
    "extension3 = ConstantExtensionUnitGroups(\"%\", 100.0, \"bp\", 1.0/10000, constantNumberFormat, None, group1, group4)\n",
    "extension4 = ConstantExtensionUnitGroups(\"%\", 100.0, \"bp\", 1.0/10000, constantNumberFormat, None, group2, group4)\n",
    "\n",
    "print(extension1) # Raw format."
   ]
  },
  {
   "cell_type": "markdown",
   "id": "f716eaa1-3ee5-4fb2-9d0d-15d57c256b03",
   "metadata": {},
   "source": [
    "<a id='calculations'></a>"
   ]
  },
  {
   "cell_type": "markdown",
   "id": "a3f6e8fc-066c-480a-a0ef-fab11d267032",
   "metadata": {},
   "source": [
    "[**Go to top of notebook**](#top)"
   ]
  },
  {
   "cell_type": "markdown",
   "id": "cebeaab0-1578-4feb-85a8-f84e1acd21d9",
   "metadata": {
    "tags": []
   },
   "source": [
    "## Calculations and derivatives"
   ]
  },
  {
   "cell_type": "markdown",
   "id": "9c106040-cc67-4a29-882f-928c820d628d",
   "metadata": {},
   "source": [
    "\n",
    "<img src=\"https://github.com/mastixstudio/mastixstudio/blob/main/assets/computation-graph-subgraph-collapsed.png?raw=true\" alt=\"Alternative text\" style=\"width: 40%;\" />"
   ]
  },
  {
   "cell_type": "code",
   "execution_count": null,
   "id": "b448094c-8023-4740-9813-76ba8e338c8c",
   "metadata": {},
   "outputs": [],
   "source": []
  },
  {
   "cell_type": "code",
   "execution_count": 5,
   "id": "fe0c118f-08d0-42f4-9f56-d65d3fba559d",
   "metadata": {
    "tags": []
   },
   "outputs": [
    {
     "name": "stdout",
     "output_type": "stream",
     "text": [
      "Constant: 0,24 (Stibor/3M.1Y, %, 100, Plain Number Format (1, 2, .,  , 0), bp, 0,0001, Group (TradeDate, 2022-07-18, Short Date Format), Group (ReferenceIndex, Stibor/3M, Plain String Format))\n"
     ]
    }
   ],
   "source": [
    "# Create a couple of constants to use below.\n",
    "\n",
    "c0 = Constant( 0.24, \"Stibor/3M.1Y\", extension1)\n",
    "c1 = Constant( 1.24, \"Stibor/3M.2Y\", extension1)\n",
    "c2 = Constant( 2.84, \"Stibor/3M.3Y\", extension2)\n",
    "c3 = Constant(-4.26, \"Stibor/3M.4Y\", extension2)\n",
    "c4 = Constant( 0.92, \"Stibor/3M.5Y\", extension2)\n",
    "c5 = Constant( 3.12, \"Euribor/6M.1Y\", extension3)\n",
    "c6 = Constant( 7.22, \"Euribor/6M.2Y\", extension3)\n",
    "c7 = Constant( 9.34, \"Euribor/6M.3Y\", extension4)\n",
    "c8 = Constant(-2.61, \"Euribor/6M.4Y\", extension4)\n",
    "c9 = Constant( 1.23, \"Euribor/6M.5Y\", extension4)\n",
    "\n",
    "print(c0) # Raw format."
   ]
  },
  {
   "cell_type": "markdown",
   "id": "9815f9bb-ec7f-44bc-9e27-2b07340d9873",
   "metadata": {
    "tags": []
   },
   "source": [
    "# Calculate on high-performance framework."
   ]
  },
  {
   "cell_type": "code",
   "execution_count": 6,
   "id": "50b838db-038f-49c0-b3db-bbf5a4c2a338",
   "metadata": {
    "tags": []
   },
   "outputs": [
    {
     "name": "stdout",
     "output_type": "stream",
     "text": [
      "Outer: 3,5216, Height: 0\n",
      "Derivatives (3.52, 2, 2)\n"
     ]
    }
   ],
   "source": [
    "\n",
    "\n",
    "tape = OuterTape()\n",
    "\n",
    "r1 = Mathematics.Multiplication(tape, OuterReverse(c1), OuterReverse(c2))\n",
    "d1 = r1.AccumulateDerivatives()\n",
    "\n",
    "print(r1) # Raw format.\n",
    "print(d1) # Raw format."
   ]
  },
  {
   "cell_type": "code",
   "execution_count": null,
   "id": "01df9752-191a-4f03-a1ea-af7a7bdc987e",
   "metadata": {
    "tags": []
   },
   "outputs": [],
   "source": []
  },
  {
   "cell_type": "markdown",
   "id": "91909c19-42db-4946-b4e2-7f3e01d5b661",
   "metadata": {
    "tags": []
   },
   "source": [
    "Calculate outside high-performance framework (But with some other features instead). Note that there is no tape here."
   ]
  },
  {
   "cell_type": "code",
   "execution_count": 7,
   "id": "cb684d02-4d82-4538-a0e2-aceaaa13e5e3",
   "metadata": {
    "tags": []
   },
   "outputs": [
    {
     "name": "stdout",
     "output_type": "stream",
     "text": [
      "Interior: 3,5216 (2)\n",
      "Derivatives (3.52, 2, 2)\n"
     ]
    }
   ],
   "source": [
    "r2 = Mathematics.Multiplication(c1, c2)\n",
    "d2 = r2.AccumulateDerivatives()\n",
    "\n",
    "print(r2) # Raw format.\n",
    "print(d2) # Raw format."
   ]
  },
  {
   "cell_type": "markdown",
   "id": "f780902d-77b2-4dff-a88b-ed1c77ac276a",
   "metadata": {
    "tags": []
   },
   "source": [
    "Calculate outside high-performance framework as real operators (Can for example be saved as operators and recalculated on load). Note the prefix operator"
   ]
  },
  {
   "cell_type": "code",
   "execution_count": 8,
   "id": "98f11ef1-2fcf-4102-9ce1-b0299c9f7eee",
   "metadata": {
    "tags": []
   },
   "outputs": [
    {
     "name": "stdout",
     "output_type": "stream",
     "text": [
      "Interior: 3,5216 (Multiplication, 2)\n",
      "Derivatives (3.52, 2, 2)\n"
     ]
    }
   ],
   "source": [
    "r3 = Mathematics.OperatorMultiplication(c1, c2)\n",
    "d3 = r3.AccumulateDerivatives()\n",
    "\n",
    "print(r3) # Raw format. Not that this is i multiplication node compared to the above which is a plain binary node.\n",
    "print(d3) # Raw format."
   ]
  },
  {
   "cell_type": "markdown",
   "id": "5b51653c-48f3-48b9-b49e-bb179c65eb34",
   "metadata": {
    "tags": []
   },
   "source": [
    "Calculations can be joined (in principle) arbitrarily. The only exception is that results on the high-performance framework can not be used as inputs to calculations outside the high-performance framework."
   ]
  },
  {
   "cell_type": "code",
   "execution_count": 9,
   "id": "52f2ef5d-009c-4019-8c6b-d38ed9d8d712",
   "metadata": {
    "tags": []
   },
   "outputs": [
    {
     "name": "stdout",
     "output_type": "stream",
     "text": [
      "Interior: -0,7384 (2)\n",
      "Derivatives (-0.74, 3, 3)\n"
     ]
    }
   ],
   "source": [
    "r4 = Mathematics.Addition(r3, c3)\n",
    "d4 = r4.AccumulateDerivatives()\n",
    "\n",
    "print(r4) # Raw format.\n",
    "print(d4) # Raw format."
   ]
  },
  {
   "cell_type": "markdown",
   "id": "e0361de9-deca-48e0-b73e-e17ec2a3f88b",
   "metadata": {
    "tags": []
   },
   "source": [
    "A larger calculation using constants as well as previous calculated results (except r1 since it is on the high-performance framework)."
   ]
  },
  {
   "cell_type": "code",
   "execution_count": 10,
   "id": "04c8496b-6f1f-430e-bf2c-e29847754cc1",
   "metadata": {
    "tags": []
   },
   "outputs": [
    {
     "name": "stdout",
     "output_type": "stream",
     "text": [
      "Interior: 185,3673682400455 (11)\n",
      "Derivatives (18 536.74 SEK, 6, 6)\n"
     ]
    }
   ],
   "source": [
    "valueNumberFormat = PlainNumberFormat(2, \".\", \" \")\n",
    "derivativeNumberFormat = PlainNumberFormat(3, \".\", \" \")\n",
    "\n",
    "r5 = Mathematics.Multiplication(c0, c1, c2, c3, r2, r3, r4, c4, c4, c4, c6)\n",
    "d5 = r5.AccumulateDerivatives(\"SEK\", 100.0, valueNumberFormat, derivativeNumberFormat, False)\n",
    "\n",
    "print(r5) # Raw format.\n",
    "print(d5) # Raw format."
   ]
  },
  {
   "cell_type": "markdown",
   "id": "60d1149d-feb0-4b5f-8e41-d717788ce71a",
   "metadata": {
    "tags": []
   },
   "source": [
    "However if we do the calculation on the high-performance framework we can include r1 as well. Note the tape."
   ]
  },
  {
   "cell_type": "code",
   "execution_count": 11,
   "id": "eb33e922-f715-4f60-be64-d1a60871e0c0",
   "metadata": {
    "tags": []
   },
   "outputs": [
    {
     "name": "stdout",
     "output_type": "stream",
     "text": [
      "Outer: -25,342167783167998, Height: 1\n",
      "Derivatives (18 536.74 SEK, 6, 6)\n"
     ]
    }
   ],
   "source": [
    "r5t = Mathematics.Multiplication(tape, OuterReverse(c0),  OuterReverse(c7),  OuterReverse(c8),  OuterReverse(c9),  r1)\n",
    "d5t = r5.AccumulateDerivatives(\"SEK\", 100.0, valueNumberFormat, derivativeNumberFormat, False)\n",
    "\n",
    "print(r5t) # Raw format.\n",
    "print(d5t) # Raw format."
   ]
  },
  {
   "cell_type": "markdown",
   "id": "687b2878-fc1b-470f-87a8-0d483122b864",
   "metadata": {
    "tags": []
   },
   "source": [
    "Show result in raw format ...."
   ]
  },
  {
   "cell_type": "code",
   "execution_count": 12,
   "id": "a1a910e3-804b-4ce9-ab67-0ecf035db52d",
   "metadata": {
    "tags": []
   },
   "outputs": [
    {
     "name": "stdout",
     "output_type": "stream",
     "text": [
      "185.3673682400455\n",
      "(Constant: 0,24 (Stibor/3M.1Y, %, 100, Plain Number Format (1, 2, .,  , 0), bp, 0,0001, Group (TradeDate, 2022-07-18, Short Date Format), Group (ReferenceIndex, Stibor/3M, Plain String Format)), 772,3640343335229)\n",
      "(Constant: 1,24 (Stibor/3M.2Y, %, 100, Plain Number Format (1, 2, .,  , 0), bp, 0,0001, Group (TradeDate, 2022-07-18, Short Date Format), Group (ReferenceIndex, Stibor/3M, Plain String Format)), -264,4819770174347)\n",
      "(Constant: 2,84 (Stibor/3M.3Y, %, 100, Plain Number Format (1, 2, .,  , 0), bp, 0,0001, Group (TradeDate, 2022-07-19, Short Date Format), Group (ReferenceIndex, Stibor/3M, Plain String Format)), -115,47804630338698)\n",
      "(Constant: -4,26 (Stibor/3M.4Y, %, 100, Plain Number Format (1, 2, .,  , 0), bp, 0,0001, Group (TradeDate, 2022-07-19, Short Date Format), Group (ReferenceIndex, Stibor/3M, Plain String Format)), -294,5526978173349)\n",
      "(Constant: 0,92 (Stibor/3M.5Y, %, 100, Plain Number Format (1, 2, .,  , 0), bp, 0,0001, Group (TradeDate, 2022-07-19, Short Date Format), Group (ReferenceIndex, Stibor/3M, Plain String Format)), 714,1526577013342)\n",
      "(Constant: 7,22 (Euribor/6M.2Y, %, 100, Plain Number Format (1, 2, .,  , 0), bp, 0,0001, Group (TradeDate, 2022-07-18, Short Date Format), Group (ReferenceIndex, Euribor/6M, Plain String Format)), 25,674150725768076)\n",
      "Value            : 18 536.74 SEK\n",
      "Stibor/3M.1Y     :  7.724 SEK/bp\n",
      "Stibor/3M.2Y     : -2.645 SEK/bp\n",
      "Stibor/3M.3Y     : -1.155 SEK/bp\n",
      "Stibor/3M.4Y     : -2.946 SEK/bp\n",
      "Stibor/3M.5Y     :  7.142 SEK/bp\n",
      "Euribor/6M.2Y    :  0.257 SEK/bp\n"
     ]
    }
   ],
   "source": [
    "print(d5.Value)\n",
    "\n",
    "for derivative in d5:\n",
    "    print(derivative)\n",
    "\n",
    "# ... or nicely formatted.\n",
    "\n",
    "print(\"{0:16} : {1:>13}\".format(\"Value\", d5.FormatValue(True)))\n",
    "\n",
    "for derivative in d5:\n",
    "    print(\"{0:16} : {1:>13}\" .format(derivative.Item1.IdNullable, d5.FormatDerivative(derivative, True)))"
   ]
  },
  {
   "cell_type": "markdown",
   "id": "b8af51d9-6672-4fb3-9bdc-6fdc05ecb7b4",
   "metadata": {
    "tags": []
   },
   "source": [
    "Derivatives can be accessed in numerous ways, for example"
   ]
  },
  {
   "cell_type": "code",
   "execution_count": 13,
   "id": "5f9e1b3f-35b8-4d48-a3c6-776dee3bab14",
   "metadata": {
    "tags": []
   },
   "outputs": [
    {
     "name": "stdout",
     "output_type": "stream",
     "text": [
      "Stibor/3M.1Y   :      24.00 % :     7.724 SEK/bp\n",
      "Stibor/3M.2Y   :     124.00 % :    -2.645 SEK/bp\n",
      "Stibor/3M.3Y   :     284.00 % :    -1.155 SEK/bp\n",
      "Stibor/3M.4Y   :    -426.00 % :    -2.946 SEK/bp\n",
      "Stibor/3M.5Y   :      92.00 % :     7.142 SEK/bp\n",
      "Euribor/6M.2Y  :     722.00 % :     0.257 SEK/bp\n",
      "Stibor/3M.1Y   :      24.00 % :     7.724 SEK/bp\n",
      "Stibor/3M.2Y   :     124.00 % :    -2.645 SEK/bp\n",
      "Stibor/3M.3Y   :     284.00 % :    -1.155 SEK/bp\n",
      "Stibor/3M.4Y   :    -426.00 % :    -2.946 SEK/bp\n",
      "Stibor/3M.5Y   :      92.00 % :     7.142 SEK/bp\n",
      "Euribor/6M.2Y  :     722.00 % :     0.257 SEK/bp\n"
     ]
    }
   ],
   "source": [
    "constants = d5.GetConstants()\n",
    "\n",
    "for constant in constants:\n",
    "    print(\"{0:14} : {1:>12} : {2:>16}\".format(constant.IdNullable, constant.FormatConstant(True), d5.FormatDerivative(constant, d5[constant], True)))\n",
    "\n",
    "derivatives = d5.GetDerivatives()\n",
    "\n",
    "for derivative in derivatives:\n",
    "    print(\"{0:14} : {1:>12} : {2:>16}\".format(derivative.Item1.IdNullable, derivative.Item1.FormatConstant(True), d5.FormatDerivative(derivative, True)))\n"
   ]
  },
  {
   "cell_type": "markdown",
   "id": "e92c6449-f7c4-4067-be70-9574e7a24aec",
   "metadata": {
    "tags": []
   },
   "source": [
    "or if preferred filtered and sorted."
   ]
  },
  {
   "cell_type": "code",
   "execution_count": 14,
   "id": "9767ebc1-7cb9-422e-9e1c-3e3d0c14bf5d",
   "metadata": {
    "tags": []
   },
   "outputs": [
    {
     "name": "stdout",
     "output_type": "stream",
     "text": [
      "(Constant: 2,84 (Stibor/3M.3Y, %, 100, Plain Number Format (1, 2, .,  , 0), bp, 0,0001, Group (TradeDate, 2022-07-19, Short Date Format), Group (ReferenceIndex, Stibor/3M, Plain String Format)), -115,47804630338698)\n",
      "(Constant: 1,24 (Stibor/3M.2Y, %, 100, Plain Number Format (1, 2, .,  , 0), bp, 0,0001, Group (TradeDate, 2022-07-18, Short Date Format), Group (ReferenceIndex, Stibor/3M, Plain String Format)), -264,4819770174347)\n",
      "(Constant: 7,22 (Euribor/6M.2Y, %, 100, Plain Number Format (1, 2, .,  , 0), bp, 0,0001, Group (TradeDate, 2022-07-18, Short Date Format), Group (ReferenceIndex, Euribor/6M, Plain String Format)), 25,674150725768076)\n"
     ]
    }
   ],
   "source": [
    "f1 = OrDerivativeFilter(DerivativeIdWildcardFilter(Wildcard(\"*2y*\", True, True)), DerivativeIdWildcardFilter(Wildcard(\"*3y*\", True, True)))\n",
    "\n",
    "s1 = DerivativeGroupDateSorter(\"TradeDate\", True)\n",
    "\n",
    "derivatives = d5.GetDerivatives(f1, s1)\n",
    "\n",
    "for derivative in derivatives:\n",
    "    print(derivative)"
   ]
  },
  {
   "cell_type": "markdown",
   "id": "d82bcc16-db1c-4ba8-871f-08010d9a9cb3",
   "metadata": {
    "tags": []
   },
   "source": [
    "We can also do some basic arithmetics on the results ... keeping value and all derivatives up to date ...."
   ]
  },
  {
   "cell_type": "code",
   "execution_count": 15,
   "id": "9a43d03d-184a-4505-9079-61d9ad4e3914",
   "metadata": {
    "tags": []
   },
   "outputs": [
    {
     "name": "stdout",
     "output_type": "stream",
     "text": [
      "-0.7384\n",
      "185.3673682400455\n",
      "184.62896824004548\n",
      "\n",
      "*************************************************\n",
      "\n",
      "(Constant: -4,26 (Stibor/3M.4Y, %, 100, Plain Number Format (1, 2, .,  , 0), bp, 0,0001, Group (TradeDate, 2022-07-19, Short Date Format), Group (ReferenceIndex, Stibor/3M, Plain String Format)), -293,5526978173349)\n",
      "(Constant: 1,24 (Stibor/3M.2Y, %, 100, Plain Number Format (1, 2, .,  , 0), bp, 0,0001, Group (TradeDate, 2022-07-18, Short Date Format), Group (ReferenceIndex, Stibor/3M, Plain String Format)), -261,6419770174347)\n",
      "(Constant: 2,84 (Stibor/3M.3Y, %, 100, Plain Number Format (1, 2, .,  , 0), bp, 0,0001, Group (TradeDate, 2022-07-19, Short Date Format), Group (ReferenceIndex, Stibor/3M, Plain String Format)), -114,23804630338698)\n",
      "(Constant: 0,24 (Stibor/3M.1Y, %, 100, Plain Number Format (1, 2, .,  , 0), bp, 0,0001, Group (TradeDate, 2022-07-18, Short Date Format), Group (ReferenceIndex, Stibor/3M, Plain String Format)), 772,3640343335229)\n",
      "(Constant: 0,92 (Stibor/3M.5Y, %, 100, Plain Number Format (1, 2, .,  , 0), bp, 0,0001, Group (TradeDate, 2022-07-19, Short Date Format), Group (ReferenceIndex, Stibor/3M, Plain String Format)), 714,1526577013342)\n",
      "(Constant: 7,22 (Euribor/6M.2Y, %, 100, Plain Number Format (1, 2, .,  , 0), bp, 0,0001, Group (TradeDate, 2022-07-18, Short Date Format), Group (ReferenceIndex, Euribor/6M, Plain String Format)), 25,674150725768076)\n"
     ]
    }
   ],
   "source": [
    "d6 = Result.Addition(d4, d5)\n",
    "\n",
    "print(d4.Value)\n",
    "print(d5.Value)\n",
    "print(d6.Value)\n",
    "\n",
    "print()\n",
    "print(\"*************************************************\")\n",
    "print()\n",
    "\n",
    "# ... and look at the derivatives\n",
    "\n",
    "derivatives = d6.GetDerivatives()\n",
    "\n",
    "for derivative in derivatives:\n",
    "    print(derivative)"
   ]
  },
  {
   "cell_type": "markdown",
   "id": "e747ffd4-2897-415f-aef5-e71d21e658cc",
   "metadata": {
    "tags": []
   },
   "source": [
    "We can also inspect the legs of nodes."
   ]
  },
  {
   "cell_type": "code",
   "execution_count": 16,
   "id": "5b9956fe-3788-4572-a09f-52dd7678e1ec",
   "metadata": {
    "tags": []
   },
   "outputs": [
    {
     "name": "stdout",
     "output_type": "stream",
     "text": [
      "(Interior: 3,5216 (Multiplication, 2), 1)\n",
      "(Constant: -4,26 (Stibor/3M.4Y, %, 100, Plain Number Format (1, 2, .,  , 0), bp, 0,0001, Group (TradeDate, 2022-07-19, Short Date Format), Group (ReferenceIndex, Stibor/3M, Plain String Format)), 1)\n",
      "\n",
      "*************************************************\n",
      "\n"
     ]
    }
   ],
   "source": [
    "legs = r4.Trees\n",
    "\n",
    "for leg in legs:\n",
    "    print(leg)\n",
    "\n",
    "print()\n",
    "print(\"*************************************************\")\n",
    "print()"
   ]
  },
  {
   "cell_type": "markdown",
   "id": "02380c76-0a7f-49b8-852b-d3188863c603",
   "metadata": {
    "tags": []
   },
   "source": [
    "Expressions can also be evaluated on or outside the high-performance framework."
   ]
  },
  {
   "cell_type": "code",
   "execution_count": 17,
   "id": "47adbbe5-d7a7-4767-b3f8-21c973451e07",
   "metadata": {
    "tags": []
   },
   "outputs": [
    {
     "name": "stdout",
     "output_type": "stream",
     "text": [
      "Outer: -0,548658282371793, Height: 7\n",
      "Derivatives (-0.55, 4, 4)\n"
     ]
    }
   ],
   "source": [
    "expression = \"-cos(({0}*{1}*{2}/{3}*5+9*{4})*exp(2))\"\n",
    "\n",
    "r6 = Parser.Parse(tape, expression, OuterReverse(c1), OuterReverse(r2), OuterReverse(c3), OuterReverse(r4), OuterReverse(c5))\n",
    "d6 = r6.AccumulateDerivatives()\n",
    "\n",
    "print(r6)\n",
    "print(d6)"
   ]
  },
  {
   "cell_type": "markdown",
   "id": "b12284c4-0f2c-47ed-a830-9206e839272a",
   "metadata": {
    "tags": []
   },
   "source": [
    "A comment on nodes\n",
    "In order for a node to be included on the high-performance framework it needs to be an OuterReverse. However, both Interior and Constant nodes can be cast to an OuterReverse.\n",
    "For the time beeing, they can not be auto-casted.\n",
    "Outside the the high-performance framework, nodes should be Interior nodes (and Constants are actually Interior nodes so no cast is needed here.)"
   ]
  },
  {
   "cell_type": "markdown",
   "id": "09d324bd-f0d8-4dc4-8170-a5650fac4151",
   "metadata": {
    "tags": []
   },
   "source": [
    "We can also the calculation tree as a DOT-file to disk ..."
   ]
  },
  {
   "cell_type": "code",
   "execution_count": 18,
   "id": "09d7c3d9-7cc9-49aa-8f33-5d4c1f1150c2",
   "metadata": {
    "tags": []
   },
   "outputs": [
    {
     "name": "stdout",
     "output_type": "stream",
     "text": [
      "24 nodes saved.\n"
     ]
    }
   ],
   "source": [
    "nodesSaved = CalculationTree(r6, PlainNumberFormat(2, \".\", \" \")).SaveToDotFile(\"c:\\\\temp\\\\nodes.dot\", True, True, True, True)\n",
    "\n",
    "print(\"{0} nodes saved.\".format(nodesSaved))"
   ]
  },
  {
   "cell_type": "markdown",
   "id": "298b4e19-3543-4ff8-ba54-447416cbb38c",
   "metadata": {
    "tags": []
   },
   "source": [
    "The nodes are stored as a DOT language file which can be converted\n",
    "to pictures with tools understanding this DOT langauage. An example of such a\n",
    "tool is graphviz (https://graphviz.org/). With graphviz, A DOT file can, for example, be translated\n",
    "minto a pdf using \"dot -T pdf -o dot.pdf nodes.dot\""
   ]
  },
  {
   "cell_type": "markdown",
   "id": "668d5d97-20ed-4b4d-9917-abe26ba8800c",
   "metadata": {
    "tags": []
   },
   "source": [
    "<a id='functions'></a>"
   ]
  },
  {
   "cell_type": "markdown",
   "id": "85b20ea6-79a0-4d16-bea8-94b58e12ffc2",
   "metadata": {
    "tags": []
   },
   "source": [
    "[**Go to top of notebook**](#top)"
   ]
  },
  {
   "cell_type": "markdown",
   "id": "a622dc87-caeb-4432-a6f2-3d462755d81d",
   "metadata": {
    "tags": []
   },
   "source": [
    "## Functions"
   ]
  },
  {
   "cell_type": "markdown",
   "id": "080f50a8-deab-427a-8b0f-880183f898c7",
   "metadata": {
    "tags": []
   },
   "source": [
    "Black Scholes as well as many, may more functions are available directly as"
   ]
  },
  {
   "cell_type": "code",
   "execution_count": 19,
   "id": "2406512b-c6ef-4834-aaca-b508a079f6fe",
   "metadata": {
    "tags": []
   },
   "outputs": [
    {
     "name": "stdout",
     "output_type": "stream",
     "text": [
      "18.739392302582672\n",
      "(Constant: 123 (Spot, SEK, 1, Plain Number Format (1, 2, .,  , 0), SEK, 1), 0,6399957344419552)\n",
      "(Constant: 119 (Strike, SEK, 1, Plain Number Format (1, 2, .,  , 0), SEK, 1), -0,504034311208217)\n",
      "(Constant: 0,05 (Rate, %, 100, Plain Number Format (1, 2, .,  , 0), bp, 0,01), 35,98804982026669)\n",
      "(Constant: 0,4 (Volatility, %, 100, Plain Number Format (1, 2, .,  , 0), bp, 0,01), 35,64435338536214)\n",
      "(Constant: 0,6 (Expiry, Years, 1, Plain Number Format (1, 2, .,  , 0), Day, 0,0027397260273972603), 14,880455280142936)\n"
     ]
    }
   ],
   "source": [
    "spot = Constant(123, \"Spot\", \"SEK\", 1.0, \"SEK\", 1.0, constantNumberFormat)\n",
    "strike = Constant(119, \"Strike\", \"SEK\", 1.0, \"SEK\", 1.0, constantNumberFormat)\n",
    "rate = Constant(0.05, \"Rate\", \"%\", 100.0, \"bp\", 1/100.0, constantNumberFormat)\n",
    "volatility = Constant(0.4, \"Volatility\", \"%\", 100.0, \"bp\", 1/100.0, constantNumberFormat)\n",
    "expiry = Constant(0.6, \"Expiry\", \"Years\", 1.0, \"Day\", 1/365.0, constantNumberFormat)\n",
    "\n",
    "call = BlackScholes.Call(spot, strike, rate, volatility, expiry).AccumulateDerivatives()\n",
    "\n",
    "print(call.Value)\n",
    "\n",
    "for derivative in call:\n",
    "    print(derivative)"
   ]
  },
  {
   "cell_type": "markdown",
   "id": "a49d5a8d-b04c-4950-a490-3df811b67197",
   "metadata": {
    "tags": []
   },
   "source": [
    "...but can also be built using other functions or parsed from expressions as this somewhat example shows:"
   ]
  },
  {
   "cell_type": "code",
   "execution_count": 20,
   "id": "226b662c-1c46-4f03-b231-7db23bf8a7e3",
   "metadata": {
    "tags": []
   },
   "outputs": [
    {
     "name": "stdout",
     "output_type": "stream",
     "text": [
      "18.73939230258268\n",
      "(Constant: 119 (Strike, SEK, 1, Plain Number Format (1, 2, .,  , 0), SEK, 1), -0,5040343112082167)\n",
      "(Constant: 123 (Spot, SEK, 1, Plain Number Format (1, 2, .,  , 0), SEK, 1), 0,639995734441955)\n",
      "(Constant: 0,6 (Expiry, Years, 1, Plain Number Format (1, 2, .,  , 0), Day, 0,0027397260273972603), 14,880455280142936)\n",
      "(Constant: 0,05 (Rate, %, 100, Plain Number Format (1, 2, .,  , 0), bp, 0,01), 35,98804982026667)\n",
      "(Constant: 0,4 (Volatility, %, 100, Plain Number Format (1, 2, .,  , 0), bp, 0,01), 35,644353385362145)\n"
     ]
    }
   ],
   "source": [
    "def SemiParsedCall(spot, strike, rate, vol, expiry):\n",
    "    \n",
    "    num = Parser.Parse(\"ln({0}/{1})+({2}+({3}*{3}/2))*{4}\", spot, strike, rate, vol, expiry)\n",
    "\n",
    "    den = Parser.Parse(\"{0}*sqrt({1})\", vol, expiry)\n",
    "\n",
    "    d1 = Mathematics.Division(num, den)\n",
    "\n",
    "    d2 = Mathematics.Subtraction(d1, den)\n",
    "\n",
    "    p1 = StandardNormal.CumulativeDistribution(d1)\n",
    "    p2 = StandardNormal.CumulativeDistribution(d2)\n",
    "\n",
    "    return Parser.Parse(\"{0}*{1}-{2}*{3}*exp(-{4}*{5})\", p1, spot, p2, strike, rate, expiry)\n",
    "\n",
    "\n",
    "semiParsedCall = SemiParsedCall(spot, strike, rate, volatility, expiry).AccumulateDerivatives()\n",
    "\n",
    "print(semiParsedCall.Value)\n",
    "\n",
    "for derivative in semiParsedCall:\n",
    "    print(derivative)"
   ]
  },
  {
   "cell_type": "markdown",
   "id": "ddcaf148-d36b-4a16-abd7-f9ee7e96cf95",
   "metadata": {
    "tags": []
   },
   "source": [
    "Finally - solve for strike giving a specified call value."
   ]
  },
  {
   "cell_type": "code",
   "execution_count": 21,
   "id": "e4b86c59-f201-4dd9-8d9c-4ee745c43cb0",
   "metadata": {
    "tags": []
   },
   "outputs": [
    {
     "name": "stdout",
     "output_type": "stream",
     "text": [
      "118.48571148947252\n",
      "(Constant: 19 (Target Call, SEK, 1, Plain Number Format (1, 2, ., ,, 0), SEK, 1), -1,9629483377678247)\n",
      "(Constant: 123 (Spot, SEK, 1, Plain Number Format (1, 2, .,  , 0), SEK, 1), 1,2665181293257006)\n",
      "(Constant: 0,6 (Expiry, Years, 1, Plain Number Format (1, 2, .,  , 0), Day, 0,0027397260273972603), 29,128124834958754)\n",
      "(Constant: 0,05 (Rate, %, 100, Plain Number Format (1, 2, .,  , 0), bp, 0,01), 71,0914268936835)\n",
      "(Constant: 0,4 (Volatility, %, 100, Plain Number Format (1, 2, .,  , 0), bp, 0,01), 69,61151778145538)\n"
     ]
    }
   ],
   "source": [
    "def callfunc(s):\n",
    "    return  SemiParsedCall(spot, s, rate, volatility, expiry)\n",
    "\n",
    "targetCall = Constant(19.0, \"Target Call\", \"SEK\", 1.0, \"SEK\", 1.0)\n",
    "\n",
    "solvedStrike = NewtonRaphson.Solve(targetCall, 119, 1.0e-12, NewtonRaphson.Function(callfunc)).AccumulateDerivatives(\"SEK\", 1.0, constantNumberFormat, constantNumberFormat)\n",
    "\n",
    "print(solvedStrike.Value)\n",
    "\n",
    "for derivative in solvedStrike:\n",
    "    print(derivative)"
   ]
  },
  {
   "cell_type": "markdown",
   "id": "f1a88842-47d7-45a9-94d1-92696bd889f4",
   "metadata": {
    "tags": []
   },
   "source": [
    "The result can be formatted:"
   ]
  },
  {
   "cell_type": "code",
   "execution_count": 22,
   "id": "259c32b5-48eb-4437-a9f6-6b46fc30d693",
   "metadata": {
    "tags": []
   },
   "outputs": [
    {
     "name": "stdout",
     "output_type": "stream",
     "text": [
      "Solved Strike    :    118.49 SEK\n",
      "Target Call      : -1.96 SEK/SEK\n",
      "Spot             :  1.27 SEK/SEK\n",
      "Expiry           :  0.08 SEK/Day\n",
      "Rate             :   0.71 SEK/bp\n",
      "Volatility       :   0.70 SEK/bp\n"
     ]
    }
   ],
   "source": [
    "print(\"{0:16} : {1:>13}\".format(\"Solved Strike\", solvedStrike.FormatValue(True)))\n",
    "\n",
    "for derivative in solvedStrike:\n",
    "    print(\"{0:16} : {1:>13}\" .format(derivative.Item1.IdNullable, solvedStrike.FormatDerivative(derivative, True)))"
   ]
  }
 ],
 "metadata": {
  "kernelspec": {
   "display_name": "Python 3 (ipykernel)",
   "language": "python",
   "name": "python3"
  },
  "language_info": {
   "codemirror_mode": {
    "name": "ipython",
    "version": 3
   },
   "file_extension": ".py",
   "mimetype": "text/x-python",
   "name": "python",
   "nbconvert_exporter": "python",
   "pygments_lexer": "ipython3",
   "version": "3.10.6"
  }
 },
 "nbformat": 4,
 "nbformat_minor": 5
}
